{
 "cells": [
  {
   "cell_type": "markdown",
   "metadata": {},
   "source": [
    "## MRNet Baseline Models\n",
    "Seeking to replicate and extend basic CNN models on the MRNet data.\n",
    "\n",
    "You should have run the `save_middle_slices_as_images.ipynb` notebook to generate directories containing just the center slice of the scans from the three planes, directory `mid1`, as well as an RGB image generated from the three centered slices from the scans, skipping d={0,1,2} slices between the taken slices, eg directory `mid3d2`.\n",
    "\n",
    "For each model architecture (eg AlexNet or ResNet50), there are thus nine models to fit, for each combination of outcome and plane. Each architecture will have a corresponding 3x3 model performance grid. The competition measure is average AUC across outcome (Abnormal, Meniscus tear, and ACL tear). Simple first approach is to keep predictions for an outcome based on the best model of only scans from one plane.\n",
    "\n",
    "Outcomes predicted:\n",
    "- Abnormal/Normal\n",
    "- Meniscus tear/Not\n",
    "- ACL tear/Not\n",
    "\n",
    "Input images from planes:\n",
    "- Axial\n",
    "- Coronal\n",
    "- Sagittal"
   ]
  },
  {
   "cell_type": "markdown",
   "metadata": {},
   "source": [
    "### Load libraries"
   ]
  },
  {
   "cell_type": "code",
   "execution_count": 136,
   "metadata": {},
   "outputs": [],
   "source": [
    "import numpy as np\n",
    "import pandas as pd\n",
    "import os\n",
    "import pickle\n",
    "from time import strftime, gmtime \n",
    "\n",
    "import matplotlib.pyplot as plt\n",
    "from fastai.vision import *\n",
    "import torch\n",
    "\n",
    "# for AUC ROC score calculations\n",
    "from sklearn import metrics\n",
    "\n",
    "from operator import itemgetter \n",
    "\n",
    "#from mrnet_orig import *\n",
    "from mrnet_itemlist import *\n",
    "\n",
    "#from ipywidgets import interact, Dropdown, IntSlider\n",
    "\n",
    "%matplotlib notebook\n",
    "plt.style.use('grayscale')"
   ]
  },
  {
   "cell_type": "code",
   "execution_count": 7,
   "metadata": {},
   "outputs": [],
   "source": [
    "data_path = Path('../mid1') "
   ]
  },
  {
   "cell_type": "markdown",
   "metadata": {},
   "source": [
    "### Prepare the labels"
   ]
  },
  {
   "cell_type": "code",
   "execution_count": 18,
   "metadata": {},
   "outputs": [],
   "source": [
    "train_abnl = pd.read_csv(data_path/'train-abnormal.csv', header=None,\n",
    "                       names=['Case', 'Abnormal'], \n",
    "                       dtype={'Case': str, 'Abnormal': np.int64})\n",
    "train_abnl['axial'] = 'train/axial/' + train_abnl.Case + '.png'\n",
    "train_abnl['coronal'] = 'train/coronal/' + train_abnl.Case + '.png'\n",
    "train_abnl['sagittal'] = 'train/sagittal/' + train_abnl.Case + '.png'\n",
    "\n",
    "valid_abnl = pd.read_csv(data_path/'valid-abnormal.csv', header=None,\n",
    "                       names=['Case', 'Abnormal'], \n",
    "                       dtype={'Case': str, 'Abnormal': np.int64})\n",
    "valid_abnl['axial'] = 'valid/axial/' + valid_abnl.Case + '.png'\n",
    "valid_abnl['coronal'] = 'valid/coronal/' + valid_abnl.Case + '.png'\n",
    "valid_abnl['sagittal'] = 'valid/sagittal/' + valid_abnl.Case + '.png'\n",
    "abnl = train_abnl.append(valid_abnl, ignore_index=True)"
   ]
  },
  {
   "cell_type": "code",
   "execution_count": 49,
   "metadata": {},
   "outputs": [],
   "source": [
    "train_meni = pd.read_csv(data_path/'train-meniscus.csv', header=None,\n",
    "                       names=['Case', 'Meniscus'], \n",
    "                       dtype={'Case': str, 'Meniscus': np.int64})\n",
    "\n",
    "valid_meni = pd.read_csv(data_path/'valid-meniscus.csv', header=None,\n",
    "                       names=['Case', 'Meniscus'], \n",
    "                       dtype={'Case': str, 'Meniscus': np.int64})\n",
    "meni = train_meni.append(valid_meni, ignore_index=True)\n",
    "abnl = pd.merge(abnl, meni, on='Case')"
   ]
  },
  {
   "cell_type": "code",
   "execution_count": 63,
   "metadata": {},
   "outputs": [],
   "source": [
    "train_acl = pd.read_csv(data_path/'train-acl.csv', header=None,\n",
    "                       names=['Case', 'ACL'], \n",
    "                       dtype={'Case': str, 'ACL': np.int64})\n",
    "\n",
    "valid_acl = pd.read_csv(data_path/'valid-acl.csv', header=None,\n",
    "                       names=['Case', 'ACL'], \n",
    "                       dtype={'Case': str, 'ACL': np.int64})\n",
    "acl = train_acl.append(valid_acl, ignore_index=True)\n",
    "abnl = pd.merge(abnl, acl, on='Case')"
   ]
  },
  {
   "cell_type": "code",
   "execution_count": 19,
   "metadata": {
    "scrolled": true
   },
   "outputs": [
    {
     "data": {
      "text/html": [
       "<div>\n",
       "<style scoped>\n",
       "    .dataframe tbody tr th:only-of-type {\n",
       "        vertical-align: middle;\n",
       "    }\n",
       "\n",
       "    .dataframe tbody tr th {\n",
       "        vertical-align: top;\n",
       "    }\n",
       "\n",
       "    .dataframe thead th {\n",
       "        text-align: right;\n",
       "    }\n",
       "</style>\n",
       "<table border=\"1\" class=\"dataframe\">\n",
       "  <thead>\n",
       "    <tr style=\"text-align: right;\">\n",
       "      <th></th>\n",
       "      <th>Case</th>\n",
       "      <th>Abnormal</th>\n",
       "      <th>axial</th>\n",
       "      <th>coronal</th>\n",
       "      <th>sagittal</th>\n",
       "    </tr>\n",
       "  </thead>\n",
       "  <tbody>\n",
       "    <tr>\n",
       "      <th>0</th>\n",
       "      <td>0000</td>\n",
       "      <td>1</td>\n",
       "      <td>train/axial/0000.png</td>\n",
       "      <td>train/coronal/0000.png</td>\n",
       "      <td>train/sagittal/0000.png</td>\n",
       "    </tr>\n",
       "    <tr>\n",
       "      <th>1</th>\n",
       "      <td>0001</td>\n",
       "      <td>1</td>\n",
       "      <td>train/axial/0001.png</td>\n",
       "      <td>train/coronal/0001.png</td>\n",
       "      <td>train/sagittal/0001.png</td>\n",
       "    </tr>\n",
       "    <tr>\n",
       "      <th>2</th>\n",
       "      <td>0002</td>\n",
       "      <td>1</td>\n",
       "      <td>train/axial/0002.png</td>\n",
       "      <td>train/coronal/0002.png</td>\n",
       "      <td>train/sagittal/0002.png</td>\n",
       "    </tr>\n",
       "    <tr>\n",
       "      <th>3</th>\n",
       "      <td>0003</td>\n",
       "      <td>1</td>\n",
       "      <td>train/axial/0003.png</td>\n",
       "      <td>train/coronal/0003.png</td>\n",
       "      <td>train/sagittal/0003.png</td>\n",
       "    </tr>\n",
       "    <tr>\n",
       "      <th>4</th>\n",
       "      <td>0004</td>\n",
       "      <td>1</td>\n",
       "      <td>train/axial/0004.png</td>\n",
       "      <td>train/coronal/0004.png</td>\n",
       "      <td>train/sagittal/0004.png</td>\n",
       "    </tr>\n",
       "  </tbody>\n",
       "</table>\n",
       "</div>"
      ],
      "text/plain": [
       "   Case  Abnormal                 axial                 coronal  \\\n",
       "0  0000         1  train/axial/0000.png  train/coronal/0000.png   \n",
       "1  0001         1  train/axial/0001.png  train/coronal/0001.png   \n",
       "2  0002         1  train/axial/0002.png  train/coronal/0002.png   \n",
       "3  0003         1  train/axial/0003.png  train/coronal/0003.png   \n",
       "4  0004         1  train/axial/0004.png  train/coronal/0004.png   \n",
       "\n",
       "                  sagittal  \n",
       "0  train/sagittal/0000.png  \n",
       "1  train/sagittal/0001.png  \n",
       "2  train/sagittal/0002.png  \n",
       "3  train/sagittal/0003.png  \n",
       "4  train/sagittal/0004.png  "
      ]
     },
     "execution_count": 19,
     "metadata": {},
     "output_type": "execute_result"
    }
   ],
   "source": [
    "abnl.head()"
   ]
  },
  {
   "cell_type": "markdown",
   "metadata": {},
   "source": [
    "#### Restrict attention to Cases for which you have data\n",
    "For local development, you might be working just with a subset of the MRNet data. If so, get the list of Cases you have data for and subset the dataframe accordingly."
   ]
  },
  {
   "cell_type": "code",
   "execution_count": 26,
   "metadata": {},
   "outputs": [],
   "source": [
    "sample_cases = sorted([e[:-4] for e in os.listdir(data_path/'train/axial') if e[-4:] == '.png'])"
   ]
  },
  {
   "cell_type": "code",
   "execution_count": 29,
   "metadata": {},
   "outputs": [],
   "source": [
    "df = abnl.loc[abnl.Case.isin(sample_cases),:]"
   ]
  },
  {
   "cell_type": "markdown",
   "metadata": {},
   "source": [
    "## Fit Models"
   ]
  },
  {
   "cell_type": "code",
   "execution_count": 146,
   "metadata": {},
   "outputs": [],
   "source": [
    "models_path = Path('./models')"
   ]
  },
  {
   "cell_type": "markdown",
   "metadata": {},
   "source": [
    "## Cycling through planes and outcomes"
   ]
  },
  {
   "cell_type": "code",
   "execution_count": 120,
   "metadata": {},
   "outputs": [
    {
     "ename": "ValueError",
     "evalue": "Only one class present in y_true. ROC AUC score is not defined in that case.",
     "output_type": "error",
     "traceback": [
      "\u001b[0;31m---------------------------------------------------------------------------\u001b[0m",
      "\u001b[0;31mValueError\u001b[0m                                Traceback (most recent call last)",
      "\u001b[0;32m<ipython-input-120-b9bc2ab0f39a>\u001b[0m in \u001b[0;36m<module>\u001b[0;34m\u001b[0m\n\u001b[1;32m     18\u001b[0m         \u001b[0;31m# collect AUC ROC score\u001b[0m\u001b[0;34m\u001b[0m\u001b[0;34m\u001b[0m\u001b[0;34m\u001b[0m\u001b[0m\n\u001b[1;32m     19\u001b[0m         \u001b[0myhat\u001b[0m\u001b[0;34m,\u001b[0m \u001b[0my\u001b[0m \u001b[0;34m=\u001b[0m \u001b[0mlearn\u001b[0m\u001b[0;34m.\u001b[0m\u001b[0mget_preds\u001b[0m\u001b[0;34m(\u001b[0m\u001b[0mds_type\u001b[0m\u001b[0;34m=\u001b[0m\u001b[0mDatasetType\u001b[0m\u001b[0;34m.\u001b[0m\u001b[0mValid\u001b[0m\u001b[0;34m)\u001b[0m\u001b[0;34m\u001b[0m\u001b[0;34m\u001b[0m\u001b[0m\n\u001b[0;32m---> 20\u001b[0;31m         \u001b[0mauc\u001b[0m     \u001b[0;34m=\u001b[0m \u001b[0mmetrics\u001b[0m\u001b[0;34m.\u001b[0m\u001b[0mroc_auc_score\u001b[0m\u001b[0;34m(\u001b[0m\u001b[0mto_np\u001b[0m\u001b[0;34m(\u001b[0m\u001b[0my\u001b[0m\u001b[0;34m)\u001b[0m\u001b[0;34m,\u001b[0m \u001b[0mto_np\u001b[0m\u001b[0;34m(\u001b[0m\u001b[0myhat\u001b[0m\u001b[0;34m)\u001b[0m\u001b[0;34m[\u001b[0m\u001b[0;34m:\u001b[0m\u001b[0;34m,\u001b[0m\u001b[0;36m1\u001b[0m\u001b[0;34m]\u001b[0m\u001b[0;34m)\u001b[0m\u001b[0;34m\u001b[0m\u001b[0;34m\u001b[0m\u001b[0m\n\u001b[0m\u001b[1;32m     21\u001b[0m         \u001b[0mprint\u001b[0m\u001b[0;34m(\u001b[0m\u001b[0;34m'Predicting {} using middle slice from {} with AUC: {}'\u001b[0m\u001b[0;34m.\u001b[0m\u001b[0mformat\u001b[0m\u001b[0;34m(\u001b[0m\u001b[0moutcome\u001b[0m\u001b[0;34m,\u001b[0m\u001b[0mplane\u001b[0m\u001b[0;34m,\u001b[0m\u001b[0mauc\u001b[0m\u001b[0;34m)\u001b[0m\u001b[0;34m)\u001b[0m\u001b[0;34m\u001b[0m\u001b[0;34m\u001b[0m\u001b[0m\n\u001b[1;32m     22\u001b[0m         \u001b[0maucresults\u001b[0m\u001b[0;34m.\u001b[0m\u001b[0mappend\u001b[0m\u001b[0;34m(\u001b[0m\u001b[0;34m[\u001b[0m\u001b[0moutcome\u001b[0m\u001b[0;34m,\u001b[0m\u001b[0mplane\u001b[0m\u001b[0;34m,\u001b[0m\u001b[0mauc\u001b[0m\u001b[0;34m]\u001b[0m\u001b[0;34m)\u001b[0m\u001b[0;34m\u001b[0m\u001b[0;34m\u001b[0m\u001b[0m\n",
      "\u001b[0;32m~/miniconda3/lib/python3.7/site-packages/sklearn/metrics/ranking.py\u001b[0m in \u001b[0;36mroc_auc_score\u001b[0;34m(y_true, y_score, average, sample_weight, max_fpr)\u001b[0m\n\u001b[1;32m    354\u001b[0m     return _average_binary_score(\n\u001b[1;32m    355\u001b[0m         \u001b[0m_binary_roc_auc_score\u001b[0m\u001b[0;34m,\u001b[0m \u001b[0my_true\u001b[0m\u001b[0;34m,\u001b[0m \u001b[0my_score\u001b[0m\u001b[0;34m,\u001b[0m \u001b[0maverage\u001b[0m\u001b[0;34m,\u001b[0m\u001b[0;34m\u001b[0m\u001b[0;34m\u001b[0m\u001b[0m\n\u001b[0;32m--> 356\u001b[0;31m         sample_weight=sample_weight)\n\u001b[0m\u001b[1;32m    357\u001b[0m \u001b[0;34m\u001b[0m\u001b[0m\n\u001b[1;32m    358\u001b[0m \u001b[0;34m\u001b[0m\u001b[0m\n",
      "\u001b[0;32m~/miniconda3/lib/python3.7/site-packages/sklearn/metrics/base.py\u001b[0m in \u001b[0;36m_average_binary_score\u001b[0;34m(binary_metric, y_true, y_score, average, sample_weight)\u001b[0m\n\u001b[1;32m     75\u001b[0m \u001b[0;34m\u001b[0m\u001b[0m\n\u001b[1;32m     76\u001b[0m     \u001b[0;32mif\u001b[0m \u001b[0my_type\u001b[0m \u001b[0;34m==\u001b[0m \u001b[0;34m\"binary\"\u001b[0m\u001b[0;34m:\u001b[0m\u001b[0;34m\u001b[0m\u001b[0;34m\u001b[0m\u001b[0m\n\u001b[0;32m---> 77\u001b[0;31m         \u001b[0;32mreturn\u001b[0m \u001b[0mbinary_metric\u001b[0m\u001b[0;34m(\u001b[0m\u001b[0my_true\u001b[0m\u001b[0;34m,\u001b[0m \u001b[0my_score\u001b[0m\u001b[0;34m,\u001b[0m \u001b[0msample_weight\u001b[0m\u001b[0;34m=\u001b[0m\u001b[0msample_weight\u001b[0m\u001b[0;34m)\u001b[0m\u001b[0;34m\u001b[0m\u001b[0;34m\u001b[0m\u001b[0m\n\u001b[0m\u001b[1;32m     78\u001b[0m \u001b[0;34m\u001b[0m\u001b[0m\n\u001b[1;32m     79\u001b[0m     \u001b[0mcheck_consistent_length\u001b[0m\u001b[0;34m(\u001b[0m\u001b[0my_true\u001b[0m\u001b[0;34m,\u001b[0m \u001b[0my_score\u001b[0m\u001b[0;34m,\u001b[0m \u001b[0msample_weight\u001b[0m\u001b[0;34m)\u001b[0m\u001b[0;34m\u001b[0m\u001b[0;34m\u001b[0m\u001b[0m\n",
      "\u001b[0;32m~/miniconda3/lib/python3.7/site-packages/sklearn/metrics/ranking.py\u001b[0m in \u001b[0;36m_binary_roc_auc_score\u001b[0;34m(y_true, y_score, sample_weight)\u001b[0m\n\u001b[1;32m    322\u001b[0m     \u001b[0;32mdef\u001b[0m \u001b[0m_binary_roc_auc_score\u001b[0m\u001b[0;34m(\u001b[0m\u001b[0my_true\u001b[0m\u001b[0;34m,\u001b[0m \u001b[0my_score\u001b[0m\u001b[0;34m,\u001b[0m \u001b[0msample_weight\u001b[0m\u001b[0;34m=\u001b[0m\u001b[0;32mNone\u001b[0m\u001b[0;34m)\u001b[0m\u001b[0;34m:\u001b[0m\u001b[0;34m\u001b[0m\u001b[0;34m\u001b[0m\u001b[0m\n\u001b[1;32m    323\u001b[0m         \u001b[0;32mif\u001b[0m \u001b[0mlen\u001b[0m\u001b[0;34m(\u001b[0m\u001b[0mnp\u001b[0m\u001b[0;34m.\u001b[0m\u001b[0munique\u001b[0m\u001b[0;34m(\u001b[0m\u001b[0my_true\u001b[0m\u001b[0;34m)\u001b[0m\u001b[0;34m)\u001b[0m \u001b[0;34m!=\u001b[0m \u001b[0;36m2\u001b[0m\u001b[0;34m:\u001b[0m\u001b[0;34m\u001b[0m\u001b[0;34m\u001b[0m\u001b[0m\n\u001b[0;32m--> 324\u001b[0;31m             raise ValueError(\"Only one class present in y_true. ROC AUC score \"\n\u001b[0m\u001b[1;32m    325\u001b[0m                              \"is not defined in that case.\")\n\u001b[1;32m    326\u001b[0m \u001b[0;34m\u001b[0m\u001b[0m\n",
      "\u001b[0;31mValueError\u001b[0m: Only one class present in y_true. ROC AUC score is not defined in that case."
     ]
    }
   ],
   "source": [
    "accresults = []\n",
    "aucresults = []\n",
    "\n",
    "for outcome in ('Abnormal','Meniscus','ACL'):\n",
    "    for plane in ('axial','coronal','sagittal'):\n",
    "        print('---- Using AlexNet to predict {} using middle slice from {} ----'.format(outcome, plane))\n",
    "        data  = ImageDataBunch.from_df(path=data_path, df=df, \n",
    "                                       fn_col=plane, label_col=outcome, bs=8)\n",
    "        learn = cnn_learner(data, models.alexnet, metrics=accuracy)\n",
    "        learn.fit_one_cycle(10)\n",
    "        # collect accuracy metrics\n",
    "        acc     = [float(e[0]) for e in learn.recorder.metrics]\n",
    "        accresults.append([outcome,plane,acc])\n",
    "        # collect AUC ROC scores\n",
    "        yhat, y = learn.get_preds(ds_type=DatasetType.Valid)\n",
    "        auc     = metrics.roc_auc_score(to_np(y), to_np(yhat)[:,1])\n",
    "        aucresults.append([outcome,plane,auc])    \n",
    "        \n",
    "# save accuracy metrics\n",
    "with open(models_path/'accresults_' + data_path.stem + '_AlexNet_' +  strftime('%Y%m%d_%H%M', gmtime()), 'wb') as f:\n",
    "    pickle.dump(accresults, f)\n",
    "\n",
    "# save AUC scores\n",
    "with open(models_path/('aucresults_' + data_path.stem + '_AlexNet_' +  strftime('%Y%m%d_%H%M', gmtime())), 'wb') as f:\n",
    "    pickle.dump(aucresults, f)"
   ]
  },
  {
   "cell_type": "code",
   "execution_count": 130,
   "metadata": {},
   "outputs": [
    {
     "name": "stdout",
     "output_type": "stream",
     "text": [
      "[['Meniscus', 'sagittal', 0.8333333333333334], ['Meniscus', 'coronal', 0.6190476190476191], ['Meniscus', 'axial', 0.5833333333333333], ['Abnormal', 'coronal', 0.8888888888888888], ['Abnormal', 'axial', 0.25], ['Abnormal', 'sagittal', 0.25], ['ACL', 'axial', 0.8888888888888888], ['ACL', 'coronal', 0.33333333333333337]]\n",
      "[['Meniscus', 'sagittal', 0.8333333333333334], ['Abnormal', 'coronal', 0.8888888888888888], ['ACL', 'axial', 0.8888888888888888]]\n",
      "Average AUC across tasks: 0.87\n"
     ]
    }
   ],
   "source": [
    "sorted_auc = sorted(aucresults, key=itemgetter(0,2), reverse=True)\n",
    "#print(sorted_auc)\n",
    "high_auc_per_task = sorted_auc[0::3]\n",
    "#print(high_auc_per_task)\n",
    "ave_auc_across_tasks = np.mean([e[2] for e in high_auc_per_task])\n",
    "print('Average AUC across tasks: {}'.format(np.round(ave_auc_across_tasks,2)))"
   ]
  }
 ],
 "metadata": {
  "kernelspec": {
   "display_name": "Python 3",
   "language": "python",
   "name": "python3"
  },
  "language_info": {
   "codemirror_mode": {
    "name": "ipython",
    "version": 3
   },
   "file_extension": ".py",
   "mimetype": "text/x-python",
   "name": "python",
   "nbconvert_exporter": "python",
   "pygments_lexer": "ipython3",
   "version": "3.7.2"
  }
 },
 "nbformat": 4,
 "nbformat_minor": 2
}
